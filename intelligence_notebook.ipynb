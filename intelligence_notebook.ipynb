{
  "cells": [
    {
      "cell_type": "code",
      "execution_count": null,
      "metadata": {
        "id": "yXtUKuqKjCph"
      },
      "outputs": [],
      "source": [
        "import pandas as pd\n",
        "%load_ext autoreload\n",
        "%autoreload 2"
      ]
    },
    {
      "cell_type": "markdown",
      "metadata": {
        "id": "5kccmAM1jCpi"
      },
      "source": [
        "# Data processing"
      ]
    },
    {
      "cell_type": "markdown",
      "metadata": {
        "id": "RgLPFViejCpk"
      },
      "source": [
        "Load the csv file with the data using the pandas library."
      ]
    },
    {
      "cell_type": "code",
      "execution_count": null,
      "metadata": {
        "id": "PXxwLFNWjCpk"
      },
      "outputs": [],
      "source": [
        "df ="
      ]
    },
    {
      "cell_type": "markdown",
      "metadata": {
        "id": "T1T16IXHjCpl"
      },
      "source": [
        "Change the dtype of the \"time\" column to datetime64\n",
        "* tip: use the pd.to_datetime function()"
      ]
    },
    {
      "cell_type": "markdown",
      "metadata": {
        "id": "ODjTC7M2jCpl"
      },
      "source": [
        "Create a new dataframe with the \"time\" column and the column with sensor data of your interest"
      ]
    },
    {
      "cell_type": "code",
      "execution_count": null,
      "metadata": {
        "id": "t9sPyKNljCpl"
      },
      "outputs": [],
      "source": [
        "temperature_df = df[] # example for temperature"
      ]
    },
    {
      "cell_type": "markdown",
      "metadata": {
        "id": "I7EIJTUPjCpm"
      },
      "source": [
        "At this point it is advisasble to resample the dataframe (i.e. hourly) and create a new one, as the data is sampled per 20 seconds, and the statistical models will not be able to handle all the data at once.\n",
        "Tips:\n",
        "* set the index of the dataframe to be the \"time\" column\n",
        "* use .resample() of the pandas library function to resample the dataset and get the mean for each timestamp you create\n",
        "* store this new dataframe to an appropriately named one."
      ]
    },
    {
      "cell_type": "code",
      "execution_count": null,
      "metadata": {
        "id": "5KZSgODtjCpm"
      },
      "outputs": [],
      "source": [
        "#\n",
        "#\n",
        "temperature_df_hourly = # example\n",
        "##"
      ]
    },
    {
      "cell_type": "markdown",
      "metadata": {
        "id": "XnDoDKs2jCpo"
      },
      "source": [
        "Use the new dataframe you created to create an array with the values of the sensor and name it approprietly."
      ]
    },
    {
      "cell_type": "markdown",
      "metadata": {
        "id": "FHAHfISSjCpo"
      },
      "source": [
        "# Statistical Models"
      ]
    },
    {
      "cell_type": "markdown",
      "metadata": {
        "id": "HyvSqkJajCpp"
      },
      "source": [
        "## ARIMA model"
      ]
    },
    {
      "cell_type": "code",
      "execution_count": null,
      "metadata": {
        "id": "1IrsT5qQjCpp"
      },
      "outputs": [],
      "source": [
        "# import the needed packages\n",
        "import numpy as np\n",
        "import matplotlib.pyplot as plt\n",
        "from statsmodels.tsa.arima.model import ARIMA"
      ]
    },
    {
      "cell_type": "markdown",
      "metadata": {
        "id": "vKL2oLhojCpq"
      },
      "source": [
        "Set a new variable that will hold the column of the dataframe with the sensor data as a list and name it approprietly."
      ]
    },
    {
      "cell_type": "code",
      "execution_count": null,
      "metadata": {
        "id": "01fpYshKjCpq"
      },
      "outputs": [],
      "source": [
        "# temperature = []"
      ]
    },
    {
      "cell_type": "markdown",
      "metadata": {
        "id": "A1M8NQx_jCpr"
      },
      "source": [
        "Split the dataset"
      ]
    },
    {
      "cell_type": "code",
      "execution_count": null,
      "metadata": {
        "id": "iPwsIdFXjCpr"
      },
      "outputs": [],
      "source": [
        "train = #\n",
        "test = #"
      ]
    },
    {
      "cell_type": "markdown",
      "metadata": {
        "id": "p8bkJetejCpr"
      },
      "source": [
        "Load an ARIMA model and fit it to the data"
      ]
    },
    {
      "cell_type": "code",
      "execution_count": null,
      "metadata": {
        "id": "t5xpBwdNjCpr"
      },
      "outputs": [],
      "source": [
        "model = ARIMA()\n",
        "model_fit = #"
      ]
    },
    {
      "cell_type": "markdown",
      "metadata": {
        "id": "R4qtPI_NjCps"
      },
      "source": [
        "Make a forecast for as many steps as you want (prefferebly the same number of values as test set)."
      ]
    },
    {
      "cell_type": "code",
      "execution_count": null,
      "metadata": {
        "id": "mtkUu0wijCps"
      },
      "outputs": [],
      "source": [
        "forecast = model_fit.forecast(steps=)"
      ]
    },
    {
      "cell_type": "markdown",
      "metadata": {
        "id": "dI2cKCGcjCps"
      },
      "source": [
        "Plot the results Actual vs Predicted values using matplotlib."
      ]
    },
    {
      "cell_type": "code",
      "execution_count": null,
      "metadata": {
        "id": "QLBk2WbTjCps"
      },
      "outputs": [],
      "source": [
        "# plt.legend(['Actual', 'Predicted'])\n",
        "# plt.show()"
      ]
    },
    {
      "cell_type": "markdown",
      "metadata": {
        "id": "U0IoHdZqjCpt"
      },
      "source": [
        "Calculate the below metrics for the model"
      ]
    },
    {
      "cell_type": "code",
      "execution_count": null,
      "metadata": {
        "id": "kQU0BoekjCpt"
      },
      "outputs": [],
      "source": [
        "from sklearn.metrics import mean_absolute_error, mean_squared_error, mean_absolute_percentage_error\n",
        "\n",
        "mae = mean_absolute_error()\n",
        "mse = mean_squared_error()\n",
        "mape = mean_absolute_percentage_error()"
      ]
    },
    {
      "cell_type": "markdown",
      "metadata": {
        "id": "9Oa8_ZitjCpt"
      },
      "source": [
        "# SARIMAX model\n",
        "For the sarima model the same steps as the ARIMA model should be followed. Only the model call changes."
      ]
    },
    {
      "cell_type": "code",
      "execution_count": null,
      "metadata": {
        "id": "v2U7BY9VjCpt"
      },
      "outputs": [],
      "source": [
        "from statsmodels.tsa.statespace.sarimax import SARIMAX\n",
        "\n",
        "model_sar = SARIMAX()"
      ]
    },
    {
      "cell_type": "code",
      "execution_count": null,
      "metadata": {
        "id": "UOTOBv36jCpt"
      },
      "outputs": [],
      "source": [
        "model_fit = model_sar.fit()"
      ]
    },
    {
      "cell_type": "code",
      "execution_count": null,
      "metadata": {
        "id": "8bQumSjvjCpt"
      },
      "outputs": [],
      "source": [
        "forecast = model_fit.forecast(steps=)"
      ]
    },
    {
      "cell_type": "code",
      "execution_count": null,
      "metadata": {
        "id": "kZ-FPeZdjCpt"
      },
      "outputs": [],
      "source": [
        "plt.plot(test)\n",
        "plt.plot(forecast)\n",
        "plt.legend(['Actual', 'Predicted'])\n",
        "plt.show()"
      ]
    },
    {
      "cell_type": "markdown",
      "metadata": {
        "id": "ZoNIjkPqjCpu"
      },
      "source": [
        "Calculate the below metrics for the model"
      ]
    },
    {
      "cell_type": "code",
      "execution_count": null,
      "metadata": {
        "id": "V13IxpAyjCpv"
      },
      "outputs": [],
      "source": [
        "from sklearn.metrics import mean_absolute_error, mean_squared_error, mean_absolute_percentage_error\n",
        "\n",
        "mae = mean_absolute_error()\n",
        "mse = mean_squared_error()\n",
        "mape = mean_absolute_percentage_error()"
      ]
    },
    {
      "cell_type": "markdown",
      "metadata": {
        "id": "9TKNUiPZjCpv"
      },
      "source": [
        "### You can perform the analysis for whichever sensor you choose. You may do it for all of them or one. It is advised to tune the parameters to achieve a better results but it is not necessary. You can also use GridSearchCV form sklearn to automatically optimize the parameters."
      ]
    },
    {
      "cell_type": "markdown",
      "metadata": {
        "id": "AvCXqeAmjCpv"
      },
      "source": [
        "# Neural Network Models"
      ]
    },
    {
      "cell_type": "markdown",
      "metadata": {
        "id": "5EGNelaijCpv"
      },
      "source": [
        "## Data Processing and preparation"
      ]
    },
    {
      "cell_type": "markdown",
      "metadata": {
        "id": "5wu8m9r9jCpv"
      },
      "source": [
        "For the machine learning models the processing of the dataset changes a bit."
      ]
    },
    {
      "cell_type": "code",
      "execution_count": null,
      "metadata": {
        "id": "2JNpqX8ljCpv"
      },
      "outputs": [],
      "source": [
        "#As an example lets say we have the temperature array we created earlier.\n",
        "temperature = df[\"temp\"]\n",
        "\n",
        "# We need to normalize the data\n",
        "#Calculate the mean\n",
        "mean = temperature.mean()\n",
        "# Calculate the std\n",
        "std = temperature.std()\n",
        "# Use standard methodology to normalize the data (original_values - mean) /std\n",
        "temperature = (temperature - mean) / std"
      ]
    },
    {
      "cell_type": "markdown",
      "metadata": {
        "id": "ZIHlHImPjCpv"
      },
      "source": [
        "Again, it is suggested you have already resampled the data as training with a large amount of instances coulf be really slow especially withoutt a dedicated GPU for acceleration. For a Machine Learning Neural Network Model we need to transform our data into information and target values. To do that we must create an array of features (past values) with a target (value after these 10 values for example)."
      ]
    },
    {
      "cell_type": "code",
      "execution_count": null,
      "metadata": {
        "id": "8ezdkIvYjCpv"
      },
      "outputs": [],
      "source": [
        "# Create the LSTM input sequence\n",
        "look_back = 180\n",
        "\n",
        "X = []\n",
        "y = []\n",
        "for i in range(look_back, len(temperature)):\n",
        "    X.append(temperature[i-look_back:i])\n",
        "    y.append(temperature[i])\n",
        "\n",
        "X = np.array(X)\n",
        "y = np.array(y)\n",
        "\n",
        "# Split the data into training and testing sets\n",
        "train_size = int(len(X) * 0.7)\n",
        "X_train, y_train = X[:train_size], y[:train_size]\n",
        "X_test, y_test = X[train_size:], y[train_size:]\n",
        "\n",
        "# Reshape the input data for the model\n",
        "X_train = np.reshape(X_train, (X_train.shape[0], X_train.shape[1], 1))\n",
        "X_test = np.reshape(X_test, (X_test.shape[0], X_test.shape[1], 1))"
      ]
    },
    {
      "cell_type": "markdown",
      "metadata": {
        "id": "tC3BctzBjCpv"
      },
      "source": [
        "The above requires array comprehension but as it the not the focus of this project please just change the look back according to the dataset you created (resample, original dataset etc.)"
      ]
    },
    {
      "cell_type": "markdown",
      "metadata": {
        "id": "MqKMcja0jCpx"
      },
      "source": [
        "#### LSTM"
      ]
    },
    {
      "cell_type": "code",
      "execution_count": null,
      "metadata": {
        "id": "2PKpNZQbjCpx"
      },
      "outputs": [],
      "source": [
        "from keras.models import Sequential\n",
        "from keras.layers import Dense, LSTM"
      ]
    },
    {
      "cell_type": "code",
      "execution_count": null,
      "metadata": {
        "id": "2YUC-MuqjCpx"
      },
      "outputs": [],
      "source": [
        "# Define the LSTM model\n",
        "model = Sequential()\n",
        "model.add(LSTM(50, input_shape=(look_back, 1)))\n",
        "model.add(Dense(1))\n",
        "model.compile(loss='mean_squared_error', optimizer='adam')"
      ]
    },
    {
      "cell_type": "code",
      "execution_count": null,
      "metadata": {
        "id": "eTHFwxIqjCpx"
      },
      "outputs": [],
      "source": [
        "model.fit(X_train, y_train, epochs=100, batch_size=32)"
      ]
    },
    {
      "cell_type": "markdown",
      "metadata": {
        "id": "L6md71MvjCpx"
      },
      "source": [
        "Plot the training accuracy over the course of the training and loss from the model.history paramater"
      ]
    },
    {
      "cell_type": "code",
      "execution_count": null,
      "metadata": {
        "id": "Ni0L82aUjCpx"
      },
      "outputs": [],
      "source": [
        "#plt.show()"
      ]
    },
    {
      "cell_type": "code",
      "execution_count": null,
      "metadata": {
        "id": "RXzwYbQejCpx"
      },
      "outputs": [],
      "source": [
        "# Predict future values\n",
        "forecast = model.predict()\n",
        "\n",
        "# Plot the predicted and actual values\n",
        "\n",
        "# plt.legend(['Actual', 'Predicted'])\n",
        "# plt.show()"
      ]
    },
    {
      "cell_type": "code",
      "execution_count": null,
      "metadata": {
        "id": "lcFeQU-jjCpx"
      },
      "outputs": [],
      "source": [
        "\n",
        "# Plot the predicted and actual values\n",
        "\n",
        "# plt.legend(['Actual', 'Predicted'])\n",
        "# plt.show()"
      ]
    },
    {
      "cell_type": "markdown",
      "metadata": {
        "id": "XWefPWjpjCpx"
      },
      "source": [
        "Calculate the mean_absolute_error, mean_squared_error and mean_absolute_percentage_error and the accuracy of the model."
      ]
    },
    {
      "cell_type": "code",
      "execution_count": null,
      "metadata": {
        "id": "gqgIuwh1jCpy"
      },
      "outputs": [],
      "source": [
        "mae =\n",
        "mse =\n",
        "mape =\n",
        "accuracy ="
      ]
    },
    {
      "cell_type": "markdown",
      "metadata": {
        "id": "50rOSmM0jCpy"
      },
      "source": [
        "#### RNN Model"
      ]
    },
    {
      "cell_type": "markdown",
      "metadata": {
        "id": "DFs1weXGjCpy"
      },
      "source": [
        "Bonus: Only the model changes between these two examples. Create your own SimpleRNN model using the LSTM model as a guidline and calculate the same training metrics as before as well as visualize the same results."
      ]
    },
    {
      "cell_type": "code",
      "execution_count": null,
      "metadata": {
        "id": "uB3Wec33jCpy"
      },
      "outputs": [],
      "source": [
        "from keras.layers import  SimpleRNN"
      ]
    },
    {
      "cell_type": "markdown",
      "metadata": {
        "id": "ZJitJOEdjCpz"
      },
      "source": [
        "# Final guidelines\n",
        "* You can use this notebook or create multiple notebooks as you fit (i.e. for each sensor, for each model).\n",
        "* Do not hesitate to play around with hyper parapeters optimization. While the end goal is not to achieve the best results the effort will be valued.\n",
        "* Try to mess around with the data. Do the analysis for more than one sensor and try different sampling rates. We would like to see more than one datasets as a basis for your results."
      ]
    },
    {
      "cell_type": "markdown",
      "metadata": {
        "id": "h98IlpILjCpz"
      },
      "source": []
    }
  ],
  "metadata": {
    "kernelspec": {
      "display_name": "base",
      "language": "python",
      "name": "python3"
    },
    "language_info": {
      "codemirror_mode": {
        "name": "ipython",
        "version": 3
      },
      "file_extension": ".py",
      "mimetype": "text/x-python",
      "name": "python",
      "nbconvert_exporter": "python",
      "pygments_lexer": "ipython3",
      "version": "3.9.7"
    },
    "orig_nbformat": 4,
    "colab": {
      "provenance": []
    }
  },
  "nbformat": 4,
  "nbformat_minor": 0
}